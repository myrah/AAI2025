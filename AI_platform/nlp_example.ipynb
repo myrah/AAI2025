{
  "nbformat": 4,
  "nbformat_minor": 0,
  "metadata": {
    "colab": {
      "provenance": [],
      "authorship_tag": "ABX9TyMhvpXxgtjjNb2UiReK9LH4",
      "include_colab_link": true
    },
    "kernelspec": {
      "name": "python3",
      "display_name": "Python 3"
    },
    "language_info": {
      "name": "python"
    }
  },
  "cells": [
    {
      "cell_type": "markdown",
      "metadata": {
        "id": "view-in-github",
        "colab_type": "text"
      },
      "source": [
        "<a href=\"https://colab.research.google.com/github/myrah/AAI2025/blob/dev/AI_platform/nlp_example.ipynb\" target=\"_parent\"><img src=\"https://colab.research.google.com/assets/colab-badge.svg\" alt=\"Open In Colab\"/></a>"
      ]
    },
    {
      "cell_type": "code",
      "execution_count": 6,
      "metadata": {
        "colab": {
          "base_uri": "https://localhost:8080/",
          "height": 69
        },
        "id": "LMsVnmh7w-gd",
        "outputId": "ce9c6037-7d58-4c9a-d0b1-bdd15a8dd744"
      },
      "outputs": [
        {
          "output_type": "stream",
          "name": "stdout",
          "text": [
            "AI analyzes data, finds patterns, and makes decisions.\n",
            "English: The quick brown fox jumps over the lazy dog.\n",
            "Chinese: 那只敏捷的棕色狐狸跳过那只懒惰的狗。\n"
          ]
        }
      ],
      "source": [
        "# pip install -U google-generativeai\n",
        "\n",
        "import os\n",
        "import google.generativeai as genai\n",
        "from google.colab import userdata\n",
        "\n",
        "# Configure the API key from Colab's Secrets Manager\n",
        "GOOGLE_API_KEY = userdata.get('GOOGLE_API_KEY')\n",
        "genai.configure(api_key=GOOGLE_API_KEY)\n",
        "\n",
        "# Create a GenerativeModel instance\n",
        "model = genai.GenerativeModel('gemini-2.5-flash')\n",
        "\n",
        "# Generate content\n",
        "response = model.generate_content(\"Explain how AI works in a few words\")\n",
        "\n",
        "# Print the generated text\n",
        "print(response.text)\n",
        "\n",
        "def translate_to_chinese(text_to_translate):\n",
        "  \"\"\"\n",
        "  Translates the given English text to Chinese using the Gemini API.\n",
        "\n",
        "  Args:\n",
        "    text_to_translate: The English text to be translated.\n",
        "\n",
        "  Returns:\n",
        "    The translated Chinese text as a string.\n",
        "  \"\"\"\n",
        "  # Construct a clear and specific prompt for the translation task\n",
        "  prompt = f\"Translate the following English text to Chinese:\\n\\n'{text_to_translate}'\"\n",
        "\n",
        "  try:\n",
        "    # Generate content using the model\n",
        "    response = model.generate_content(prompt)\n",
        "\n",
        "    # Extract and return the translated text\n",
        "    return response.text.strip()\n",
        "  except Exception as e:\n",
        "    print(f\"An error occurred: {e}\")\n",
        "    return \"Translation failed.\"\n",
        "\n",
        "# Example usage\n",
        "english_text = \"The quick brown fox jumps over the lazy dog.\"\n",
        "chinese_translation = translate_to_chinese(english_text)\n",
        "\n",
        "print(f\"English: {english_text}\")\n",
        "print(f\"Chinese: {chinese_translation}\")"
      ]
    }
  ]
}