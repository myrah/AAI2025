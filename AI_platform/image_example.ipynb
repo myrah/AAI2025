{
  "nbformat": 4,
  "nbformat_minor": 0,
  "metadata": {
    "colab": {
      "provenance": [],
      "authorship_tag": "ABX9TyPkbJwoCWlmY+Vccp8j0rGd",
      "include_colab_link": true
    },
    "kernelspec": {
      "name": "python3",
      "display_name": "Python 3"
    },
    "language_info": {
      "name": "python"
    }
  },
  "cells": [
    {
      "cell_type": "markdown",
      "metadata": {
        "id": "view-in-github",
        "colab_type": "text"
      },
      "source": [
        "<a href=\"https://colab.research.google.com/github/myrah/AAI2025/blob/dev/AI_platform/image_example.ipynb\" target=\"_parent\"><img src=\"https://colab.research.google.com/assets/colab-badge.svg\" alt=\"Open In Colab\"/></a>"
      ]
    },
    {
      "cell_type": "code",
      "execution_count": 1,
      "metadata": {
        "colab": {
          "base_uri": "https://localhost:8080/"
        },
        "id": "v0KAw3QQ76cY",
        "outputId": "e678ed4a-a8ac-4f56-a709-6ba8b6600627"
      },
      "outputs": [
        {
          "output_type": "stream",
          "name": "stdout",
          "text": [
            "An error occurred: Error code: 400 - {'error': {'message': 'Billing hard limit has been reached', 'type': 'image_generation_user_error', 'param': None, 'code': 'billing_hard_limit_reached'}}\n"
          ]
        }
      ],
      "source": [
        "import os\n",
        "from openai import OpenAI\n",
        "from google.colab import userdata\n",
        "\n",
        "# Initialize the OpenAI client with your API key\n",
        "# It's recommended to set your API key as an environment variable for security\n",
        "# For example: export OPENAI_API_KEY='your_api_key_here'\n",
        "client = OpenAI(\n",
        "    api_key=userdata.get(\"OPENAI_API_KEY\"),\n",
        ")\n",
        "\n",
        "# Define the image generation parameters\n",
        "prompt = \"A futuristic city skyline at sunset with flying cars\"\n",
        "model = \"dall-e-3\"  # Or \"dall-e-2\"\n",
        "n = 1  # Number of images to generate (1-10)\n",
        "size = \"1024x1024\" # Image resolution (e.g., \"256x256\", \"512x512\", \"1024x1024\")\n",
        "quality = \"standard\" # Or \"hd\" for DALL-E 3\n",
        "response_format = \"url\" # Or \"b64_json\"\n",
        "\n",
        "try:\n",
        "    # Call the image generation API\n",
        "    response = client.images.generate(\n",
        "        model=model,\n",
        "        prompt=prompt,\n",
        "        n=n,\n",
        "        size=size,\n",
        "        quality=quality,\n",
        "        response_format=response_format,\n",
        "    )\n",
        "\n",
        "    # Process the response\n",
        "    if response_format == \"url\":\n",
        "        image_url = response.data[0].url\n",
        "        print(f\"Generated image URL: {image_url}\")\n",
        "        # You can then use this URL to display or download the image\n",
        "    elif response_format == \"b64_json\":\n",
        "        # Handle base64 encoded image data if chosen\n",
        "        image_data = response.data[0].b64_json\n",
        "        print(\"Generated image data (base64):\", image_data[:50], \"...\") # Print first 50 chars\n",
        "        # You can decode and save this data as an image file\n",
        "        # import base64\n",
        "        # with open(\"generated_image.png\", \"wb\") as f:\n",
        "        #     f.write(base64.b64decode(image_data))\n",
        "\n",
        "except Exception as e:\n",
        "    print(f\"An error occurred: {e}\")"
      ]
    }
  ]
}