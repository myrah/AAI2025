{
  "nbformat": 4,
  "nbformat_minor": 0,
  "metadata": {
    "colab": {
      "provenance": [],
      "authorship_tag": "ABX9TyNMEtQoh8idYEsDZgdwnA7Z",
      "include_colab_link": true
    },
    "kernelspec": {
      "name": "python3",
      "display_name": "Python 3"
    },
    "language_info": {
      "name": "python"
    }
  },
  "cells": [
    {
      "cell_type": "markdown",
      "metadata": {
        "id": "view-in-github",
        "colab_type": "text"
      },
      "source": [
        "<a href=\"https://colab.research.google.com/github/myrah/AAI2025/blob/dev/AI_platform/HFimage.ipynb\" target=\"_parent\"><img src=\"https://colab.research.google.com/assets/colab-badge.svg\" alt=\"Open In Colab\"/></a>"
      ]
    },
    {
      "cell_type": "code",
      "execution_count": null,
      "metadata": {
        "id": "tmCT1Nk3hvp7"
      },
      "outputs": [],
      "source": [
        "# Run Cell\n",
        "!pip install diffusers transformers accelerate"
      ]
    },
    {
      "cell_type": "code",
      "source": [
        "from diffusers import StableDiffusionPipeline\n",
        "import torch\n",
        "\n",
        "# Load the Stable Diffusion model\n",
        "model_id = \"CompVis/stable-diffusion-v1-4\"\n",
        "pipe = StableDiffusionPipeline.from_pretrained(model_id)\n",
        "# pipe = pipe.to(\"cuda\")  # Use GPU for faster processing, Colab doesn't support this\n",
        "\n",
        "# Get the text prompt from the user\n",
        "prompt = input(\"Enter a text prompt: \")\n",
        "image = pipe(prompt).images[0]\n",
        "\n",
        "# Display the generated image\n",
        "from IPython.display import display\n",
        "display(image)\n",
        "\n",
        "# Save the generated image\n",
        "image.save(\"image.png\")\n",
        "\n",
        "# Confirmation message\n",
        "print(\"Image saved as 'image.png'\")\n"
      ],
      "metadata": {
        "id": "Pcip9l4mGiyK"
      },
      "execution_count": null,
      "outputs": []
    }
  ]
}