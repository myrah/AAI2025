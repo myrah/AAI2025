{
  "nbformat": 4,
  "nbformat_minor": 0,
  "metadata": {
    "colab": {
      "provenance": [],
      "authorship_tag": "ABX9TyORkvBD5PeyWy1jTJrFC0tZ",
      "include_colab_link": true
    },
    "kernelspec": {
      "name": "python3",
      "display_name": "Python 3"
    },
    "language_info": {
      "name": "python"
    }
  },
  "cells": [
    {
      "cell_type": "markdown",
      "metadata": {
        "id": "view-in-github",
        "colab_type": "text"
      },
      "source": [
        "<a href=\"https://colab.research.google.com/github/myrah/AAI2025/blob/main/LangGraph/QnAagent.ipynb\" target=\"_parent\"><img src=\"https://colab.research.google.com/assets/colab-badge.svg\" alt=\"Open In Colab\"/></a>"
      ]
    },
    {
      "cell_type": "code",
      "metadata": {
        "colab": {
          "base_uri": "https://localhost:8080/"
        },
        "id": "39a73fda",
        "outputId": "1298bb33-3e40-4d96-a2ce-37ee4469851f"
      },
      "source": [
        "!pip install --upgrade --quiet  langchain-openai"
      ],
      "execution_count": 2,
      "outputs": [
        {
          "output_type": "stream",
          "name": "stdout",
          "text": [
            "\u001b[?25l   \u001b[90m━━━━━━━━━━━━━━━━━━━━━━━━━━━━━━━━━━━━━━━━\u001b[0m \u001b[32m0.0/81.9 kB\u001b[0m \u001b[31m?\u001b[0m eta \u001b[36m-:--:--\u001b[0m\r\u001b[2K   \u001b[90m━━━━━━━━━━━━━━━━━━━━━━━━━━━━━━━━━━━━━━━━\u001b[0m \u001b[32m81.9/81.9 kB\u001b[0m \u001b[31m3.0 MB/s\u001b[0m eta \u001b[36m0:00:00\u001b[0m\n",
            "\u001b[?25h\u001b[?25l   \u001b[90m━━━━━━━━━━━━━━━━━━━━━━━━━━━━━━━━━━━━━━━━\u001b[0m \u001b[32m0.0/467.2 kB\u001b[0m \u001b[31m?\u001b[0m eta \u001b[36m-:--:--\u001b[0m\r\u001b[2K   \u001b[91m━━━━━━━━━━━━━━━━━━━━━━━━━━━━━━━━━━━━━━━\u001b[0m\u001b[90m╺\u001b[0m \u001b[32m460.8/467.2 kB\u001b[0m \u001b[31m22.6 MB/s\u001b[0m eta \u001b[36m0:00:01\u001b[0m\r\u001b[2K   \u001b[90m━━━━━━━━━━━━━━━━━━━━━━━━━━━━━━━━━━━━━━━━\u001b[0m \u001b[32m467.2/467.2 kB\u001b[0m \u001b[31m11.9 MB/s\u001b[0m eta \u001b[36m0:00:00\u001b[0m\n",
            "\u001b[?25h\u001b[31mERROR: pip's dependency resolver does not currently take into account all the packages that are installed. This behaviour is the source of the following dependency conflicts.\n",
            "langchain 0.3.27 requires langchain-core<1.0.0,>=0.3.72, but you have langchain-core 1.0.0 which is incompatible.\u001b[0m\u001b[31m\n",
            "\u001b[0m"
          ]
        }
      ]
    },
    {
      "cell_type": "code",
      "execution_count": 3,
      "metadata": {
        "id": "qUcy23Yf_Xu9"
      },
      "outputs": [],
      "source": [
        "from langchain_openai import ChatOpenAI, OpenAIEmbeddings\n",
        "import os\n",
        "from openai import OpenAI\n",
        "from google.colab import userdata\n",
        "\n",
        "# Set your OpenAI API key (from https://platform.openai.com/api-keys)\n",
        "api_key=userdata.get(\"OPENAI_EDU_API_KEY\")\n",
        "os.environ[\"OPENAI_API_KEY\"] = api_key  # optional but recommended\n",
        "\n",
        "# --- Setup the LLM ---\n",
        "model = ChatOpenAI(\n",
        "    model=\"gpt-4o\",        # or \"gpt-4o-mini\", \"gpt-4-turbo\", etc.\n",
        "    temperature=0.7        # optional, controls randomness\n",
        ")\n",
        "\n",
        "# --- Setup the Embedding model ---\n",
        "embedding = OpenAIEmbeddings(\n",
        "    model=\"text-embedding-3-large\"\n",
        ")"
      ]
    },
    {
      "cell_type": "code",
      "source": [
        "import pandas as pd\n",
        "from langchain_core.tools import tool\n",
        "\n",
        "#Load the laptop product pricing CSV into a Pandas dataframe.\n",
        "product_pricing_df = pd.read_csv(\"Laptop pricing.csv\")\n",
        "print(product_pricing_df)\n",
        "\n",
        "@tool\n",
        "def get_laptop_price(laptop_name:str) -> int :\n",
        "    \"\"\"\n",
        "    This function returns the price of a laptop, given its name as input.\n",
        "    It performs a substring match between the input name and the laptop name.\n",
        "    If a match is found, it returns the pricxe of the laptop.\n",
        "    If there is NO match found, it returns -1\n",
        "    \"\"\"\n",
        "\n",
        "    #Filter Dataframe for matching names\n",
        "    match_records_df = product_pricing_df[\n",
        "                        product_pricing_df[\"Name\"].str.contains(\n",
        "                                                \"^\" + laptop_name, case=False)\n",
        "                        ]\n",
        "    #Check if a record was found, if not return -1\n",
        "    if len(match_records_df) == 0 :\n",
        "        return -1\n",
        "    else:\n",
        "        return match_records_df[\"Price\"].iloc[0]\n",
        "\n",
        "#Test the tool. Before running the test, comment the @tool annotation\n",
        "#print(get_laptop_price(\"alpha\"))\n",
        "#print(get_laptop_price(\"testing\"))"
      ],
      "metadata": {
        "colab": {
          "base_uri": "https://localhost:8080/"
        },
        "id": "11D1tfjcCscS",
        "outputId": "a4794da6-362e-4606-f4f5-0e0cb52f57cd"
      },
      "execution_count": null,
      "outputs": [
        {
          "output_type": "stream",
          "name": "stdout",
          "text": [
            "            Name  Price  ShippingDays\n",
            "0  AlphaBook Pro   1499             2\n",
            "1     GammaAir X   1399             7\n",
            "2  SpectraBook S   2499             7\n",
            "3   OmegaPro G17   2199            14\n",
            "4  NanoEdge Flex   1699             2\n"
          ]
        }
      ]
    },
    {
      "cell_type": "code",
      "source": [
        "!pip install --upgrade --quiet  langgraph\n",
        "!pip install --upgrade --quiet  pypdf\n",
        "!pip install --upgrade --quiet  langchain-chroma\n",
        "\n",
        "__import__('pysqlite3')\n",
        "import sys\n",
        "sys.modules['sqlite3'] = sys.modules.pop('pysqlite3')\n",
        "\n",
        "from langchain.tools.retriever import create_retriever_tool\n",
        "from langchain_chroma import Chroma\n",
        "from langchain_community.document_loaders import PyPDFLoader\n",
        "from langchain_openai import OpenAIEmbeddings\n",
        "from langchain_text_splitters import RecursiveCharacterTextSplitter\n",
        "\n",
        "# Load, chunk and index the contents of the product featuers document.\n",
        "loader=PyPDFLoader(\"Laptop product descriptions.pdf\")\n",
        "docs = loader.load()\n",
        "\n",
        "text_splitter = RecursiveCharacterTextSplitter(chunk_size=1024, chunk_overlap=256)\n",
        "splits = text_splitter.split_documents(docs)\n",
        "\n",
        "#Create a vector store with Chroma\n",
        "prod_feature_store = Chroma.from_documents(\n",
        "    documents=splits,\n",
        "    embedding=embedding\n",
        ")\n",
        "\n",
        "get_product_features = create_retriever_tool(\n",
        "    prod_feature_store.as_retriever(search_kwargs={\"k\": 1}),\n",
        "    name=\"Get_Product_Features\",\n",
        "    description=\"\"\"\n",
        "    This store contains details about Laptops. It lists the available laptops\n",
        "    and their features including CPU, memory, storage, design and advantages\n",
        "    \"\"\"\n",
        ")\n",
        "\n",
        "#Test the product feature store\n",
        "#print(prod_feature_store.as_retriever().invoke(\"Tell me about the AlphaBook Pro\") )"
      ],
      "metadata": {
        "id": "Khh0bZxBDaRi"
      },
      "execution_count": null,
      "outputs": []
    },
    {
      "cell_type": "code",
      "source": [
        "from langgraph.prebuilt import create_react_agent\n",
        "from langgraph.checkpoint.memory import MemorySaver\n",
        "from langchain_core.messages import AIMessage,HumanMessage,SystemMessage\n",
        "\n",
        "#Create a System prompt to provide a persona to the chatbot\n",
        "system_prompt = SystemMessage(\"\"\"\n",
        "    You are professional chatbot that answers questions about laptops sold by your company.\n",
        "    To answer questions about laptops, you will ONLY use the available tools and NOT your own memory.\n",
        "    You will handle small talk and greetings by producing professional responses.\n",
        "    \"\"\"\n",
        ")\n",
        "\n",
        "#Create a list of tools available\n",
        "tools = [get_laptop_price, get_product_features]\n",
        "\n",
        "#Create memory across questions in a conversation (conversation memory)\n",
        "checkpointer=MemorySaver()\n",
        "\n",
        "#Create a Product QnA Agent. This is actual a graph in langGraph\n",
        "product_QnA_agent=create_react_agent(\n",
        "                                model=model, #LLM to use\n",
        "                                tools=tools, #List of tools to use\n",
        "                                debug=False, #Debugging turned on if needed\n",
        "                                checkpointer=checkpointer #For conversation memory\n",
        ")"
      ],
      "metadata": {
        "id": "15XhMsK3EaXy"
      },
      "execution_count": null,
      "outputs": []
    },
    {
      "cell_type": "code",
      "metadata": {
        "colab": {
          "base_uri": "https://localhost:8080/"
        },
        "id": "effdc805",
        "outputId": "decc3ff9-0750-44c3-f031-2645673a190e"
      },
      "source": [
        "# Example of how to invoke the agent\n",
        "# Replace the question with your query about laptops\n",
        "response = product_QnA_agent.invoke(\n",
        "    {\"messages\": [HumanMessage(content=\"What is the price of AlphaBook Pro?\")]},\n",
        "    config={\"configurable\": {\"thread_id\": \"some-thread-id\"}} # Replace with a unique thread_id for each conversation\n",
        ")\n",
        "\n",
        "# Print the response from the agent\n",
        "print(response)"
      ],
      "execution_count": null,
      "outputs": [
        {
          "output_type": "stream",
          "name": "stdout",
          "text": [
            "{'messages': [HumanMessage(content='What is the price of AlphaBook Pro?', additional_kwargs={}, response_metadata={}, id='c5ad54a3-ca64-49bc-9b52-a21adeb6abc9'), AIMessage(content='', additional_kwargs={'tool_calls': [{'id': 'call_BvBwrswo07ZvYvQeRHVUotne', 'function': {'arguments': '{\"laptop_name\":\"AlphaBook Pro\"}', 'name': 'get_laptop_price'}, 'type': 'function'}], 'refusal': None}, response_metadata={'token_usage': {'completion_tokens': 20, 'prompt_tokens': 159, 'total_tokens': 179, 'completion_tokens_details': {'accepted_prediction_tokens': 0, 'audio_tokens': 0, 'reasoning_tokens': 0, 'rejected_prediction_tokens': 0}, 'prompt_tokens_details': {'audio_tokens': 0, 'cached_tokens': 0}}, 'model_name': 'gpt-4o-2024-08-06', 'system_fingerprint': 'fp_1827dd0c55', 'id': 'chatcmpl-CO7KwSdL5W87g40f59XPyGpu66MvM', 'service_tier': 'default', 'finish_reason': 'tool_calls', 'logprobs': None}, id='run--ba246df9-4674-404f-a697-944b4526f71d-0', tool_calls=[{'name': 'get_laptop_price', 'args': {'laptop_name': 'AlphaBook Pro'}, 'id': 'call_BvBwrswo07ZvYvQeRHVUotne', 'type': 'tool_call'}], usage_metadata={'input_tokens': 159, 'output_tokens': 20, 'total_tokens': 179, 'input_token_details': {'audio': 0, 'cache_read': 0}, 'output_token_details': {'audio': 0, 'reasoning': 0}}), ToolMessage(content='1499', name='get_laptop_price', id='225f7258-4ea3-4efc-ac1f-b9373020e6ea', tool_call_id='call_BvBwrswo07ZvYvQeRHVUotne'), AIMessage(content='The price of the AlphaBook Pro is $1499.', additional_kwargs={'refusal': None}, response_metadata={'token_usage': {'completion_tokens': 13, 'prompt_tokens': 191, 'total_tokens': 204, 'completion_tokens_details': {'accepted_prediction_tokens': 0, 'audio_tokens': 0, 'reasoning_tokens': 0, 'rejected_prediction_tokens': 0}, 'prompt_tokens_details': {'audio_tokens': 0, 'cached_tokens': 0}}, 'model_name': 'gpt-4o-2024-08-06', 'system_fingerprint': 'fp_1827dd0c55', 'id': 'chatcmpl-CO7KyDXXrJ6kNCvjBLJ3DrM3kgleL', 'service_tier': 'default', 'finish_reason': 'stop', 'logprobs': None}, id='run--e9ccaedf-fcd1-4b96-8858-f5c485bfc65d-0', usage_metadata={'input_tokens': 191, 'output_tokens': 13, 'total_tokens': 204, 'input_token_details': {'audio': 0, 'cache_read': 0}, 'output_token_details': {'audio': 0, 'reasoning': 0}})]}\n"
          ]
        }
      ]
    },
    {
      "cell_type": "code",
      "source": [
        "#Setup chatbot\n",
        "import uuid\n",
        "#To maintain memory, each request should be in the context of a thread.\n",
        "#Each user conversation will use a separate thread ID\n",
        "config = {\"configurable\": {\"thread_id\": uuid.uuid4()}}\n",
        "\n",
        "#Test the agent with an input\n",
        "inputs = {\"messages\":[\n",
        "                HumanMessage(\"What are the features and pricing for GammaAir?\")\n",
        "            ]}\n",
        "\n",
        "#Use streaming to print responses as the agent  does the work.\n",
        "#This is an alternate way to stream agent responses without waiting for the agent to finish\n",
        "for stream in product_QnA_agent.stream(inputs, config, stream_mode=\"values\"):\n",
        "    message=stream[\"messages\"][-1]\n",
        "    if isinstance(message, tuple):\n",
        "        print(message)\n",
        "    else:\n",
        "        message.pretty_print()"
      ],
      "metadata": {
        "colab": {
          "base_uri": "https://localhost:8080/"
        },
        "id": "2f4L5VPSE7Z6",
        "outputId": "121a8430-87ca-45f3-8b07-567ef9cea027"
      },
      "execution_count": null,
      "outputs": [
        {
          "output_type": "stream",
          "name": "stdout",
          "text": [
            "================================\u001b[1m Human Message \u001b[0m=================================\n",
            "\n",
            "What are the features and pricing for GammaAir?\n",
            "==================================\u001b[1m Ai Message \u001b[0m==================================\n",
            "Tool Calls:\n",
            "  Get_Product_Features (call_cE1LTtb9UJDzIVfxig1n5jbU)\n",
            " Call ID: call_cE1LTtb9UJDzIVfxig1n5jbU\n",
            "  Args:\n",
            "    query: GammaAir\n",
            "  get_laptop_price (call_jOucP9q0JBUT14BDJckvNDta)\n",
            " Call ID: call_jOucP9q0JBUT14BDJckvNDta\n",
            "  Args:\n",
            "    laptop_name: GammaAir\n",
            "=================================\u001b[1m Tool Message \u001b[0m=================================\n",
            "Name: get_laptop_price\n",
            "\n",
            "1399\n",
            "==================================\u001b[1m Ai Message \u001b[0m==================================\n",
            "\n",
            "The GammaAir X is a laptop that combines the following features:\n",
            "\n",
            "- **Processor**: AMD Ryzen 7\n",
            "- **Memory**: 32GB of DDR4 RAM\n",
            "- **Storage**: 512GB NVMe SSD\n",
            "- **Design**: Thin and light form factor, perfect for users who need high performance in a portable design\n",
            "\n",
            "The price for the GammaAir X is $1,399.\n"
          ]
        }
      ]
    },
    {
      "cell_type": "code",
      "source": [
        "import uuid\n",
        "#Send a sequence of messages to chatbot and get its response\n",
        "#This simulates the conversation between the user and the Agentic chatbot\n",
        "user_inputs = [\n",
        "    \"Hello\",\n",
        "    \"I am looking to buy a laptop\",\n",
        "    \"Give me a list of available laptop names\",\n",
        "    \"Tell me about the features of  SpectraBook\",\n",
        "    \"How much does it cost?\",\n",
        "    \"Give me similar information about OmegaPro\",\n",
        "    \"What info do you have on AcmeRight ?\",\n",
        "    \"Thanks for the help\"\n",
        "]\n",
        "\n",
        "#Create a new thread\n",
        "config = {\"configurable\": {\"thread_id\": str(uuid.uuid4())}}\n",
        "\n",
        "for input in user_inputs:\n",
        "    print(f\"----------------------------------------\\nUSER : {input}\")\n",
        "    #Format the user message\n",
        "    user_message = {\"messages\":[HumanMessage(input)]}\n",
        "    #Get response from the agent\n",
        "    ai_response = product_QnA_agent.invoke(user_message,config=config)\n",
        "    #Print the response\n",
        "    print(f\"AGENT : {ai_response['messages'][-1].content}\")"
      ],
      "metadata": {
        "colab": {
          "base_uri": "https://localhost:8080/"
        },
        "id": "tOixqoRaFAXR",
        "outputId": "5f1a080e-97a3-4793-a79a-055db3c5edd7"
      },
      "execution_count": null,
      "outputs": [
        {
          "output_type": "stream",
          "name": "stdout",
          "text": [
            "----------------------------------------\n",
            "USER : Hello\n",
            "AGENT : Hello! How can I assist you today?\n",
            "----------------------------------------\n",
            "USER : I am looking to buy a laptop\n",
            "AGENT : Great! I can help you with that. Are there specific features or specifications you're looking for in a laptop? For example, CPU type, memory size, storage capacity, or any particular design features? Let me know your preferences so I can provide more tailored recommendations.\n",
            "----------------------------------------\n",
            "USER : Give me a list of available laptop names\n",
            "AGENT : Here is a list of available laptops:\n",
            "\n",
            "1. **AlphaBook Pro**\n",
            "   - 12th Gen Intel i7 processor, 16GB DDR4 RAM, 1TB SSD.\n",
            "\n",
            "2. **GammaAir X**\n",
            "   - AMD Ryzen 7 processor, 32GB DDR4 RAM, 512GB NVMe SSD.\n",
            "\n",
            "3. **SpectraBook S**\n",
            "   - Intel Core i9 processor, 64GB RAM, 2TB SSD.\n",
            "\n",
            "4. **OmegaPro G17**\n",
            "   - Ryzen 9 5900HX CPU, 32GB RAM, 1TB SSD.\n",
            "\n",
            "5. **NanoEdge Flex**\n",
            "\n",
            "Let me know if you need more details about any of these laptops or if you want to know their prices!\n",
            "----------------------------------------\n",
            "USER : Tell me about the features of  SpectraBook\n",
            "AGENT : The **SpectraBook S** is designed for power users and comes with the following features:\n",
            "\n",
            "- **Processor:** Intel Core i9\n",
            "- **Memory:** 64GB RAM\n",
            "- **Storage:** 2TB SSD\n",
            "\n",
            "This workstation-class laptop is perfect for intensive tasks like video editing and 3D rendering, making it ideal for professionals who require high performance and substantial storage capacity. Let me know if you need more information or if you're interested in its pricing!\n",
            "----------------------------------------\n",
            "USER : How much does it cost?\n",
            "AGENT : The SpectraBook S is priced at $2,499. If you have any other questions or need further assistance, feel free to ask!\n",
            "----------------------------------------\n",
            "USER : Give me similar information about OmegaPro\n",
            "AGENT : The **OmegaPro G17** is a gaming powerhouse with the following features:\n",
            "\n",
            "- **Processor:** Ryzen 9 5900HX CPU\n",
            "- **Memory:** 32GB RAM\n",
            "- **Storage:** 1TB SSD\n",
            "- **Display:** 17-inch display with a high refresh rate\n",
            "- **Graphics:** Powerful graphics card for the best gaming experience\n",
            "\n",
            "The OmegaPro G17 is designed specifically for gamers who seek high performance and immersive visuals.\n",
            "\n",
            "The price for the OmegaPro G17 is $2,199.\n",
            "\n",
            "If you have more questions or need further assistance, feel free to ask!\n",
            "----------------------------------------\n",
            "USER : What info do you have on AcmeRight ?\n",
            "AGENT : It seems I don't have any information on a laptop named \"AcmeRight.\" If you have any other queries or need information on a different laptop, please let me know!\n",
            "----------------------------------------\n",
            "USER : Thanks for the help\n",
            "AGENT : You're welcome! If you have any more questions in the future or need further assistance, feel free to reach out. Have a great day!\n"
          ]
        }
      ]
    },
    {
      "cell_type": "code",
      "source": [
        "#conversation memory by user\n",
        "def execute_prompt(user, config, prompt):\n",
        "    inputs = {\"messages\":[(\"user\",prompt)]}\n",
        "    ai_response = product_QnA_agent.invoke(inputs,config=config)\n",
        "    print(f\"\\n{user}: {ai_response['messages'][-1].content}\")\n",
        "\n",
        "#Create different session threads for 2 users\n",
        "config_1 = {\"configurable\": {\"thread_id\": str(uuid.uuid4())}}\n",
        "config_2 = {\"configurable\": {\"thread_id\": str(uuid.uuid4())}}\n",
        "\n",
        "#Test both threads\n",
        "execute_prompt(\"USER 1\", config_1, \"Tell me about the features of  SpectraBook\")\n",
        "execute_prompt(\"USER 2\", config_2, \"Tell me about the features of  GammaAir\")\n",
        "execute_prompt(\"USER 1\", config_1, \"What is its price ?\")\n",
        "execute_prompt(\"USER 2\", config_2, \"What is its price ?\")"
      ],
      "metadata": {
        "colab": {
          "base_uri": "https://localhost:8080/"
        },
        "id": "5aCLLciQFPTa",
        "outputId": "26e0576a-f935-483b-e0c2-4f824d2e1d91"
      },
      "execution_count": null,
      "outputs": [
        {
          "output_type": "stream",
          "name": "stdout",
          "text": [
            "\n",
            "USER 1: The SpectraBook S is designed for power users and comes with the following features:\n",
            "\n",
            "- **Processor:** Intel Core i9\n",
            "- **Memory:** 64GB RAM\n",
            "- **Storage:** 2TB SSD\n",
            "\n",
            "This workstation-class laptop is ideal for intensive tasks such as video editing and 3D rendering.\n",
            "\n",
            "USER 2: The GammaAir X is a laptop that features:\n",
            "\n",
            "- **Processor**: AMD Ryzen 7\n",
            "- **Memory**: 32GB of DDR4 RAM\n",
            "- **Storage**: 512GB NVMe SSD\n",
            "- **Design**: Thin and light form factor, making it highly portable yet powerful.\n",
            "\n",
            "This laptop is ideal for users who require high performance in a portable design.\n",
            "\n",
            "USER 1: The price of the SpectraBook S is $2,499.\n",
            "\n",
            "USER 2: The price of the GammaAir X laptop is $1399.\n"
          ]
        }
      ]
    }
  ]
}