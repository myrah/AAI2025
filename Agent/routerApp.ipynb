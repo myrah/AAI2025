{
  "nbformat": 4,
  "nbformat_minor": 0,
  "metadata": {
    "colab": {
      "provenance": [],
      "authorship_tag": "ABX9TyP5/S2pdZJtD2q5XhlGkt0a",
      "include_colab_link": true
    },
    "kernelspec": {
      "name": "python3",
      "display_name": "Python 3"
    },
    "language_info": {
      "name": "python"
    }
  },
  "cells": [
    {
      "cell_type": "markdown",
      "metadata": {
        "id": "view-in-github",
        "colab_type": "text"
      },
      "source": [
        "<a href=\"https://colab.research.google.com/github/myrah/AAI2025/blob/dev/Agent/routerApp.ipynb\" target=\"_parent\"><img src=\"https://colab.research.google.com/assets/colab-badge.svg\" alt=\"Open In Colab\"/></a>"
      ]
    },
    {
      "cell_type": "code",
      "source": [
        "#Install prerequisite packages\n",
        "#!pip install python-dotenv\n",
        "\n",
        "!pip install llama-index\n",
        "!pip install llama-index-llms-openai\n",
        "!pip install llama-index-embeddings-openai\n",
        "#!pip install --upgrade llama-index llama-index-llms-openai\n",
        "\n",
        "# Setup OpenAI connection\n",
        "from llama_index.llms.openai import OpenAI\n",
        "from llama_index.embeddings.openai import OpenAIEmbedding\n",
        "from llama_index.core import Settings\n",
        "import os\n",
        "import nest_asyncio\n",
        "# from openai import OpenAI # Removed conflicting import\n",
        "from google.colab import userdata\n",
        "\n",
        "nest_asyncio.apply()\n",
        "\n",
        "# Set your OpenAI API key (from https://platform.openai.com/api-keys)\n",
        "api_key=userdata.get(\"OPENAI_EDU_API_KEY\")\n",
        "os.environ[\"OPENAI_API_KEY\"] = api_key  # optional but recommended\n",
        "\n",
        "# Configure LlamaIndex to use OpenAI models\n",
        "Settings.llm = OpenAI()\n",
        "Settings.llm.model = \"gpt-4-turbo\"  # Using a more capable model for the router\n",
        "\n",
        "\n",
        "Settings.embed_model = OpenAIEmbedding(api_key=api_key, model=\"text-embedding-3-small\")  # Pass api_key explicitly"
      ],
      "metadata": {
        "id": "kaCGV9NY79cL"
      },
      "execution_count": null,
      "outputs": []
    },
    {
      "cell_type": "code",
      "source": [
        "#Create indexes for vector search\n",
        "from llama_index.core import SimpleDirectoryReader\n",
        "from llama_index.core.node_parser import SentenceSplitter\n",
        "from llama_index.core import  VectorStoreIndex\n",
        "\n",
        "splitter=SentenceSplitter(chunk_size=1024)\n",
        "\n",
        "#-------------------------------------------------------------------\n",
        "#Setup Aeroflow document index\n",
        "#-------------------------------------------------------------------\n",
        "aeroflow_documents=SimpleDirectoryReader(\n",
        "    input_files=[\"AeroFlow_Specification_Document.pdf\"])\\\n",
        "            .load_data()\n",
        "\n",
        "#Read documents into nodes\n",
        "aeroflow_nodes=splitter.get_nodes_from_documents(aeroflow_documents)\n",
        "#Create a vector Store\n",
        "aeroflow_index=VectorStoreIndex(aeroflow_nodes)\n",
        "#Create a query engine\n",
        "aeroflow_query_engine = aeroflow_index.as_query_engine()\n",
        "\n",
        "#-------------------------------------------------------------------\n",
        "#Setup EchoSprint document index\n",
        "#-------------------------------------------------------------------\n",
        "ecosprint_documents=SimpleDirectoryReader(\n",
        "    input_files=[\"EcoSprint_Specification_Document.pdf\"])\\\n",
        "            .load_data()\n",
        "#Read documents into nodes\n",
        "ecosprint_nodes=splitter.get_nodes_from_documents(ecosprint_documents)\n",
        "#Create a vector Store\n",
        "ecosprint_index=VectorStoreIndex(ecosprint_nodes)\n",
        "#Create a query engine\n",
        "ecosprint_query_engine = ecosprint_index.as_query_engine()"
      ],
      "metadata": {
        "id": "Kuwh4PLS9ZOj"
      },
      "execution_count": null,
      "outputs": []
    },
    {
      "cell_type": "code",
      "source": [
        "from llama_index.core.tools import QueryEngineTool\n",
        "from llama_index.core.query_engine.router_query_engine import RouterQueryEngine\n",
        "from llama_index.core.selectors import LLMSingleSelector\n",
        "\n",
        "#Create a query engine Tool for NoSQL\n",
        "aeroflow_tool = QueryEngineTool.from_defaults(\n",
        "    query_engine=aeroflow_query_engine,\n",
        "    name=\"Aeroflow specifications\",\n",
        "    description=(\n",
        "        \"Contains comprehensive information about the Aeroflow product, including its design, technical features, colors, dimensions, performance specifications, maintenance procedures, and warranty details.\"\n",
        "    ),\n",
        ")\n",
        "\n",
        "#Create a query engine Tool for NLP\n",
        "ecosprint_tool = QueryEngineTool.from_defaults(\n",
        "    query_engine=ecosprint_query_engine,\n",
        "    name=\"EcoSprint specifications\",\n",
        "    description=(\n",
        "        \"Contains comprehensive information about the EcoSprint product, including its design, technical features, colors, dimensions, performance specifications, maintenance procedures, and warranty details.\"\n",
        "    ),\n",
        ")\n",
        "\n",
        "#Create a Router Agent. Provide the Tools to the Agent\n",
        "router_agent=RouterQueryEngine(\n",
        "    selector=LLMSingleSelector.from_defaults(),\n",
        "    query_engine_tools=[\n",
        "        aeroflow_tool,\n",
        "        ecosprint_tool,\n",
        "    ],\n",
        "    verbose=True\n",
        ")"
      ],
      "metadata": {
        "id": "_FSZChsW9cXg"
      },
      "execution_count": null,
      "outputs": []
    },
    {
      "cell_type": "code",
      "source": [
        "#Ask a question about NoSQL\n",
        "response = router_agent.query(\"What colors are available for AeroFlow?\")\n",
        "print(\"\\nResponse: \",str(response))"
      ],
      "metadata": {
        "colab": {
          "base_uri": "https://localhost:8080/"
        },
        "id": "xBbZM_T89ijw",
        "outputId": "0dc25bda-4095-411b-e6ae-9fdb4daf9c39"
      },
      "execution_count": null,
      "outputs": [
        {
          "output_type": "stream",
          "name": "stdout",
          "text": [
            "\u001b[1;3;38;5;200mSelecting query engine 0: The first choice specifically mentions comprehensive information about the Aeroflow product, including its colors, which directly addresses the question about what colors are available for Aeroflow..\n",
            "\u001b[0m\n",
            "Response:  The AeroFlow is available in Coastal Blue, Sunset Orange, and Pearl White.\n"
          ]
        }
      ]
    },
    {
      "cell_type": "code",
      "source": [
        "response = router_agent.query(\"What colors are available for EcoSprint?\")\n",
        "print(\"\\nResponse: \",str(response))"
      ],
      "metadata": {
        "colab": {
          "base_uri": "https://localhost:8080/"
        },
        "id": "1YGC5QOI93AR",
        "outputId": "449a4ba5-33e6-457c-9098-d3d8c10479f7"
      },
      "execution_count": null,
      "outputs": [
        {
          "output_type": "stream",
          "name": "stdout",
          "text": [
            "\u001b[1;3;38;5;200mSelecting query engine 1: This choice specifically mentions comprehensive information about the EcoSprint product, including its colors, making it directly relevant to the question about what colors are available for EcoSprint..\n",
            "\u001b[0m\n",
            "Response:  The EcoSprint is available in Midnight Black, Ocean Blue, and Pearl White.\n"
          ]
        }
      ]
    }
  ]
}