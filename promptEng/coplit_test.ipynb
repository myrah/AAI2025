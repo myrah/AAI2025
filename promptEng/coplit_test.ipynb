{
  "nbformat": 4,
  "nbformat_minor": 0,
  "metadata": {
    "colab": {
      "provenance": [],
      "authorship_tag": "ABX9TyNZNjBHAcR2+BaNdr6odcOD",
      "include_colab_link": true
    },
    "kernelspec": {
      "name": "python3",
      "display_name": "Python 3"
    },
    "language_info": {
      "name": "python"
    }
  },
  "cells": [
    {
      "cell_type": "markdown",
      "metadata": {
        "id": "view-in-github",
        "colab_type": "text"
      },
      "source": [
        "<a href=\"https://colab.research.google.com/github/myrah/AAI2025/blob/dev/promptEng/coplit_test.ipynb\" target=\"_parent\"><img src=\"https://colab.research.google.com/assets/colab-badge.svg\" alt=\"Open In Colab\"/></a>"
      ]
    },
    {
      "cell_type": "code",
      "execution_count": 2,
      "metadata": {
        "colab": {
          "base_uri": "https://localhost:8080/"
        },
        "id": "ijFnmfJwRNXA",
        "outputId": "b082fab5-7289-4000-f0eb-4c687576a2bf"
      },
      "outputs": [
        {
          "output_type": "stream",
          "name": "stdout",
          "text": [
            "Prime numbers: [2, 3, 5, 13, 17, 23, 29]\n",
            "All tests passed.\n"
          ]
        }
      ],
      "source": [
        "def is_prime(n):\n",
        "    \"\"\"Check if a number is prime.\"\"\"\n",
        "    if n < 2:\n",
        "        return False\n",
        "    if n == 2:\n",
        "        return True\n",
        "    if n % 2 == 0:\n",
        "        return False\n",
        "    for i in range(3, int(n**0.5)+1, 2):\n",
        "        if n % i == 0:\n",
        "            return False\n",
        "    return True\n",
        "\n",
        "def filter_primes(nums):\n",
        "    \"\"\"Return a list of prime numbers from the input list nums.\"\"\"\n",
        "    return [n for n in nums if is_prime(n)]\n",
        "\n",
        "# Example usage\n",
        "nums = [2, 3, 4, 5, 10, 13, 17, 18, 20, 23, 29, 30]\n",
        "primes = filter_primes(nums)\n",
        "print(\"Prime numbers:\", primes)\n",
        "# Output: Prime numbers: [2, 3, 5, 13, 17, 23, 29]\n",
        "\n",
        "# Test cases\n",
        "def test_filter_primes():\n",
        "    assert filter_primes([1, 2, 3, 4, 5]) == [2, 3, 5]\n",
        "    assert filter_primes([10, 11, 12, 13, 14]) == [11, 13]\n",
        "    assert filter_primes([]) == []\n",
        "    assert filter_primes([0, 1, -3, -7, 2]) == [2]\n",
        "    assert filter_primes([17, 19, 23]) == [17, 19, 23]\n",
        "    assert filter_primes([8, 9, 10]) == []\n",
        "\n",
        "if __name__ == \"__main__\":\n",
        "    test_filter_primes()\n",
        "    print(\"All tests passed.\")"
      ]
    }
  ]
}